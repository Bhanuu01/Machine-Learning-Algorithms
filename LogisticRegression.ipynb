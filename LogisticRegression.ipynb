{
 "cells": [
  {
   "cell_type": "code",
   "execution_count": 1,
   "id": "8bf8127d-c75a-4dcf-8538-befbdcd005b0",
   "metadata": {},
   "outputs": [],
   "source": [
    "import pandas as pd\n",
    "import numpy as np\n",
    "import matplotlib.pyplot as plt"
   ]
  },
  {
   "cell_type": "code",
   "execution_count": 2,
   "id": "8a98b5a5-8e24-4f61-aaef-f2df3fbe3816",
   "metadata": {
    "tags": []
   },
   "outputs": [],
   "source": [
    "data = pd.read_csv('SUV_Car.csv')"
   ]
  },
  {
   "cell_type": "code",
   "execution_count": 3,
   "id": "5663bf40-d553-4197-8a0b-e75e9bbe18f9",
   "metadata": {
    "tags": []
   },
   "outputs": [
    {
     "name": "stdout",
     "output_type": "stream",
     "text": [
      "    Gender  Age  EstimatedSalary  Purchased\n",
      "0     Male   19            19000          0\n",
      "1     Male   35            20000          0\n",
      "2   Female   26            43000          0\n",
      "3   Female   27            57000          0\n",
      "4     Male   19            76000          0\n",
      "5     Male   27            58000          0\n",
      "6   Female   27            84000          0\n",
      "7   Female   32           150000          1\n",
      "8     Male   25            33000          0\n",
      "9   Female   35            65000          0\n",
      "10  Female   26            80000          0\n",
      "11  Female   26            52000          0\n",
      "12    Male   20            86000          0\n",
      "13    Male   32            18000          0\n",
      "14    Male   18            82000          0\n",
      "15    Male   29            80000          0\n",
      "16    Male   47            25000          1\n",
      "17    Male   45            26000          1\n",
      "18    Male   46            28000          1\n",
      "19  Female   48            29000          1\n",
      "20    Male   45            22000          1\n",
      "21  Female   47            49000          1\n"
     ]
    }
   ],
   "source": [
    "print(data)"
   ]
  },
  {
   "cell_type": "code",
   "execution_count": 4,
   "id": "17a058f2-19f7-4795-b7ef-4d6ede0ac126",
   "metadata": {},
   "outputs": [
    {
     "name": "stdout",
     "output_type": "stream",
     "text": [
      "    Gender  Age  EstimatedSalary  Purchased\n",
      "0        1   19            19000          0\n",
      "1        1   35            20000          0\n",
      "2        0   26            43000          0\n",
      "3        0   27            57000          0\n",
      "4        1   19            76000          0\n",
      "5        1   27            58000          0\n",
      "6        0   27            84000          0\n",
      "7        0   32           150000          1\n",
      "8        1   25            33000          0\n",
      "9        0   35            65000          0\n",
      "10       0   26            80000          0\n",
      "11       0   26            52000          0\n",
      "12       1   20            86000          0\n",
      "13       1   32            18000          0\n",
      "14       1   18            82000          0\n",
      "15       1   29            80000          0\n",
      "16       1   47            25000          1\n",
      "17       1   45            26000          1\n",
      "18       1   46            28000          1\n",
      "19       0   48            29000          1\n",
      "20       1   45            22000          1\n",
      "21       0   47            49000          1\n"
     ]
    }
   ],
   "source": [
    "data['Gender'] = data['Gender'].replace('Female',0)\n",
    "data['Gender'] = data['Gender'].replace('Male',1)\n",
    "print(data)"
   ]
  },
  {
   "cell_type": "code",
   "execution_count": 5,
   "id": "452cc82b-61a3-4d9a-8505-deb80ccf8939",
   "metadata": {
    "tags": []
   },
   "outputs": [],
   "source": [
    "x = np.ones(len(data)*(len(data.keys())))\n",
    "x = x.reshape(len(data),len(data.keys()))"
   ]
  },
  {
   "cell_type": "code",
   "execution_count": 6,
   "id": "0c9dfb16-c655-434b-a1cd-06b4f81e38c3",
   "metadata": {
    "tags": []
   },
   "outputs": [
    {
     "name": "stdout",
     "output_type": "stream",
     "text": [
      "[[1. 1. 1. 1.]\n",
      " [1. 1. 1. 1.]\n",
      " [1. 1. 1. 1.]\n",
      " [1. 1. 1. 1.]\n",
      " [1. 1. 1. 1.]\n",
      " [1. 1. 1. 1.]\n",
      " [1. 1. 1. 1.]\n",
      " [1. 1. 1. 1.]\n",
      " [1. 1. 1. 1.]\n",
      " [1. 1. 1. 1.]\n",
      " [1. 1. 1. 1.]\n",
      " [1. 1. 1. 1.]\n",
      " [1. 1. 1. 1.]\n",
      " [1. 1. 1. 1.]\n",
      " [1. 1. 1. 1.]\n",
      " [1. 1. 1. 1.]\n",
      " [1. 1. 1. 1.]\n",
      " [1. 1. 1. 1.]\n",
      " [1. 1. 1. 1.]\n",
      " [1. 1. 1. 1.]\n",
      " [1. 1. 1. 1.]\n",
      " [1. 1. 1. 1.]]\n"
     ]
    }
   ],
   "source": [
    "print(x)"
   ]
  },
  {
   "cell_type": "code",
   "execution_count": 7,
   "id": "2c27c389-c58a-4524-a5a9-8c43cc19d1ae",
   "metadata": {
    "tags": []
   },
   "outputs": [
    {
     "name": "stdout",
     "output_type": "stream",
     "text": [
      "[[ 1.          1.         19.          0.12666667]\n",
      " [ 1.          1.         35.          0.13333333]\n",
      " [ 1.          0.         26.          0.28666667]\n",
      " [ 1.          0.         27.          0.38      ]\n",
      " [ 1.          1.         19.          0.50666667]\n",
      " [ 1.          1.         27.          0.38666667]\n",
      " [ 1.          0.         27.          0.56      ]\n",
      " [ 1.          0.         32.          1.        ]\n",
      " [ 1.          1.         25.          0.22      ]\n",
      " [ 1.          0.         35.          0.43333333]\n",
      " [ 1.          0.         26.          0.53333333]\n",
      " [ 1.          0.         26.          0.34666667]\n",
      " [ 1.          1.         20.          0.57333333]\n",
      " [ 1.          1.         32.          0.12      ]\n",
      " [ 1.          1.         18.          0.54666667]\n",
      " [ 1.          1.         29.          0.53333333]\n",
      " [ 1.          1.         47.          0.16666667]\n",
      " [ 1.          1.         45.          0.17333333]\n",
      " [ 1.          1.         46.          0.18666667]\n",
      " [ 1.          0.         48.          0.19333333]\n",
      " [ 1.          1.         45.          0.14666667]\n",
      " [ 1.          0.         47.          0.32666667]] <class 'numpy.float64'>\n"
     ]
    }
   ],
   "source": [
    "m = max(data['EstimatedSalary'])\n",
    "for d in data.iterrows():\n",
    "    x[d[0]][1] = d[1][0]\n",
    "    x[d[0]][2] = d[1][1]\n",
    "    x[d[0]][3] = d[1][2]/m\n",
    "print(x, type(x[0][0]))"
   ]
  },
  {
   "cell_type": "code",
   "execution_count": 8,
   "id": "d57cea0a-f7da-4bad-953b-b66f0aa67567",
   "metadata": {
    "tags": []
   },
   "outputs": [],
   "source": [
    "y = data['Purchased']\n",
    "w = np.ones(4)"
   ]
  },
  {
   "cell_type": "code",
   "execution_count": 9,
   "id": "e63df850-bc70-4fcf-b9ac-230d30cb37e7",
   "metadata": {
    "tags": []
   },
   "outputs": [
    {
     "data": {
      "text/plain": [
       "21.99999999751831"
      ]
     },
     "execution_count": 9,
     "metadata": {},
     "output_type": "execute_result"
    }
   ],
   "source": [
    "def costFunction(x,y,w):\n",
    "    m = len(x)\n",
    "    mat = np.matmul(x,w)\n",
    "    mat = np.subtract(mat,y)\n",
    "    # J = np.matmul(mat.transpose(),mat)/m\n",
    "    # print(mat)\n",
    "    # print(np.exp((-1)*mat))\n",
    "    J = 1/(1 + np.exp((-1)*mat))\n",
    "    return sum(J)\n",
    "costFunction(x,y,w)"
   ]
  },
  {
   "cell_type": "code",
   "execution_count": 10,
   "id": "534544e9-bf06-4af4-b016-91acc411840b",
   "metadata": {
    "tags": []
   },
   "outputs": [],
   "source": [
    "def gradient(x,y,w,learning_rate,iterations=10000,stoping_threshold=0.000000000001):\n",
    "    prev_cost = None\n",
    "    bol = True\n",
    "    for i in range(iterations):\n",
    "        crnt_cost = costFunction(x,y,w)\n",
    "        # print(crnt_cost)\n",
    "        if prev_cost is not None and abs(prev_cost - crnt_cost) <= stoping_threshold:\n",
    "            break\n",
    "        m = len(x)\n",
    "        prev_cost = crnt_cost\n",
    "        mat = np.matmul(x,w)\n",
    "        u = 1/(1 + np.exp((-1)*mat))\n",
    "        # print(u)\n",
    "        u = [1 if i >= 0.5 else 0 for i in u]\n",
    "        # print(u)\n",
    "        derivative = np.subtract(u, y)\n",
    "        w[0] = w[0] - learning_rate*sum(derivative)\n",
    "        w[1] = w[1] - learning_rate*np.matmul(x[:,1],derivative)\n",
    "        w[2] = w[2] - learning_rate*np.matmul(x[:,2],derivative)\n",
    "        w[3] = w[3] - learning_rate*np.matmul(x[:,3],derivative)\n",
    "        # print(w)\n",
    "    print(i)\n",
    "    print(crnt_cost)\n",
    "    return w"
   ]
  },
  {
   "cell_type": "code",
   "execution_count": 11,
   "id": "178661f5-503d-485b-9f5c-11b906424370",
   "metadata": {
    "tags": []
   },
   "outputs": [
    {
     "name": "stdout",
     "output_type": "stream",
     "text": [
      "9999\n",
      "5.609621406195408\n"
     ]
    }
   ],
   "source": [
    "b = gradient(x,y,w,0.001)"
   ]
  },
  {
   "cell_type": "code",
   "execution_count": 12,
   "id": "ba2d3639-d5f1-4011-8d5f-ff82c0c5e43a",
   "metadata": {
    "tags": []
   },
   "outputs": [
    {
     "name": "stdout",
     "output_type": "stream",
     "text": [
      "[-9.942      -2.085       0.334      -1.47016667]\n"
     ]
    }
   ],
   "source": [
    "print(b)"
   ]
  },
  {
   "cell_type": "code",
   "execution_count": 13,
   "id": "825b0732-250f-47b0-a03d-d471d77d4b37",
   "metadata": {},
   "outputs": [
    {
     "name": "stdout",
     "output_type": "stream",
     "text": [
      "[-5.867221111111375, -0.5330222222225629, -1.6794477777781278, -1.4826633333336368, -6.425884444444495, -3.577464444444603, -1.7472933333335359, -0.7241666666666473, -4.000436666666909, 1.110927777777464, -2.0420888888891007, -1.7676577777780942, -6.189895555555574, -1.5154200000003328, -6.818691111111134, -3.1250888888889747, 3.4259722222218407, 2.748171111110743, 3.0625688888885225, 5.805767777777264, 2.7873755555551725, 5.2757455555551225]\n",
      "[0.0028227382886179273, 0.369812278949542, 0.15716860605701385, 0.1850254755200938, 0.001616483390620118, 0.027186696176214643, 0.14838891311680524, 0.32647611525929315, 0.017978498870188986, 0.7523020374327656, 0.11485419902480941, 0.145833849021133, 0.002045846787969985, 0.1801369380636155, 0.0010919571254309223, 0.04208414438582821, 0.9685064451982394, 0.9398099779103206, 0.9553220701221993, 0.9969988910214771, 0.9419897981538933, 0.9949118789662816]\n",
      "0 0\n",
      "0 0\n",
      "0 0\n",
      "0 0\n",
      "0 0\n",
      "0 0\n",
      "0 0\n",
      "1 0\n",
      "0 0\n",
      "0 1\n",
      "0 0\n",
      "0 0\n",
      "0 0\n",
      "0 0\n",
      "0 0\n",
      "0 0\n",
      "1 1\n",
      "1 1\n",
      "1 1\n",
      "1 1\n",
      "1 1\n",
      "1 1\n"
     ]
    }
   ],
   "source": [
    "output = [b[0] + i[1]*b[1] + i[2]*b[2] + i[3]*b[3] for i in x]\n",
    "print(output)\n",
    "val = [1/(1 + np.exp((-1)*asdf)) for asdf in output]\n",
    "print(val)\n",
    "output = [1 if i >= 0.5 else 0 for i in val]\n",
    "for i in range(len(output)):\n",
    "    print(y[i],output[i])"
   ]
  },
  {
   "cell_type": "code",
   "execution_count": 14,
   "id": "143f28c6-c738-4f39-a643-900325ade65b",
   "metadata": {
    "tags": []
   },
   "outputs": [],
   "source": [
    "def confusion(x,yy):\n",
    "    confmat = np.array([0,0,0,0])\n",
    "    confmat = confmat.reshape(2,2)\n",
    "    for i in range(len(x)):\n",
    "        out = b[0] + x[i][1]*b[1] + x[i][2]*b[2] + x[i][3]*b[3]\n",
    "        out = 1/(1 + np.exp((-1)*out))\n",
    "        if out >= 0.5:\n",
    "            predy = 1\n",
    "        else:\n",
    "            predy = 0\n",
    "        y = yy[i]\n",
    "        if y == predy:\n",
    "            if y == 0:\n",
    "                confmat[0][0] += 1\n",
    "            else:\n",
    "                confmat[1][1] += 1\n",
    "        else:\n",
    "            if y == 0:\n",
    "                confmat[1][0] += 1\n",
    "            else:\n",
    "                confmat[0][1] += 1\n",
    "    return confmat"
   ]
  },
  {
   "cell_type": "code",
   "execution_count": 15,
   "id": "1ff88305-9bd8-4edb-b8f5-6826c13cf9d2",
   "metadata": {
    "tags": []
   },
   "outputs": [
    {
     "data": {
      "text/plain": [
       "array([[14,  1],\n",
       "       [ 1,  6]])"
      ]
     },
     "execution_count": 15,
     "metadata": {},
     "output_type": "execute_result"
    }
   ],
   "source": [
    "confusion(x,y)"
   ]
  },
  {
   "cell_type": "code",
   "execution_count": 16,
   "id": "07c823e9-c7d1-446f-988e-fa3142f133c4",
   "metadata": {
    "tags": []
   },
   "outputs": [],
   "source": [
    "def accuracy(mat):\n",
    "    return (mat[0][0] + mat[1][1])/(mat[0][0] + mat[0][1] + mat[1][0] + mat[1][1])\n",
    "def precision(mat):\n",
    "    return (mat[0][0])/(mat[0][0] + mat[1][0])\n",
    "def recall(mat):\n",
    "    return (mat[0][0])/(mat[0][0] + mat[0][1])\n",
    "def F1Score(p,r):\n",
    "    return (2*(p*r))/(p + r)"
   ]
  },
  {
   "cell_type": "code",
   "execution_count": 17,
   "id": "16ce4a70-c4b7-4887-b644-6c76ff668ebb",
   "metadata": {
    "tags": []
   },
   "outputs": [
    {
     "name": "stdout",
     "output_type": "stream",
     "text": [
      "0.9090909090909091 0.9333333333333333 0.9333333333333333 0.9333333333333333\n"
     ]
    }
   ],
   "source": [
    "mat = confusion(x,y) \n",
    "acc = accuracy(mat)\n",
    "pre = precision(mat)\n",
    "rec = recall(mat)\n",
    "fscore = F1Score(pre, rec)\n",
    "print(acc, pre, rec, fscore)"
   ]
  },
  {
   "cell_type": "code",
   "execution_count": null,
   "id": "dee7236f-6330-498a-ac29-c0d8c81e98c3",
   "metadata": {},
   "outputs": [],
   "source": []
  }
 ],
 "metadata": {
  "kernelspec": {
   "display_name": "Python 3",
   "language": "python",
   "name": "python3"
  },
  "language_info": {
   "codemirror_mode": {
    "name": "ipython",
    "version": 3
   },
   "file_extension": ".py",
   "mimetype": "text/x-python",
   "name": "python",
   "nbconvert_exporter": "python",
   "pygments_lexer": "ipython3",
   "version": "3.10.0"
  }
 },
 "nbformat": 4,
 "nbformat_minor": 5
}
