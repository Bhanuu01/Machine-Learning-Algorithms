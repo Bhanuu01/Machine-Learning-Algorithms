{
  "nbformat": 4,
  "nbformat_minor": 0,
  "metadata": {
    "colab": {
      "provenance": []
    },
    "kernelspec": {
      "name": "python3",
      "display_name": "Python 3"
    },
    "language_info": {
      "name": "python"
    }
  },
  "cells": [
    {
      "cell_type": "code",
      "execution_count": 1,
      "metadata": {
        "id": "iT9f2T3a23od"
      },
      "outputs": [],
      "source": [
        "import numpy as np\n",
        "import matplotlib.pyplot as plt\n",
        "from sklearn import datasets\n",
        "from sklearn.model_selection import train_test_split\n",
        "from sklearn.preprocessing import StandardScaler\n"
      ]
    },
    {
      "cell_type": "code",
      "source": [
        "iris = datasets.load_iris()\n"
      ],
      "metadata": {
        "id": "a7N0NyJlB_U0"
      },
      "execution_count": 2,
      "outputs": []
    },
    {
      "cell_type": "code",
      "source": [
        "X = iris.data[:100, :2]\n",
        "y = iris.target[:100]\n"
      ],
      "metadata": {
        "id": "hv1GS9HcCCRu"
      },
      "execution_count": 3,
      "outputs": []
    },
    {
      "cell_type": "code",
      "source": [
        "X_train, X_test, y_train, y_test = train_test_split(X, y, test_size=0.2, random_state=42)\n"
      ],
      "metadata": {
        "id": "9OpbtaXxCLSv"
      },
      "execution_count": 4,
      "outputs": []
    },
    {
      "cell_type": "code",
      "source": [
        "scaler = StandardScaler()\n",
        "X_train = scaler.fit_transform(X_train)\n",
        "X_test = scaler.transform(X_test)\n"
      ],
      "metadata": {
        "id": "4uIByJ8VCO2m"
      },
      "execution_count": 5,
      "outputs": []
    },
    {
      "cell_type": "code",
      "source": [
        "class Perceptron:\n",
        "    def __init__(self, learning_rate=0.01, n_iterations=1000):\n",
        "        self.learning_rate = learning_rate\n",
        "        self.n_iterations = n_iterations\n",
        "\n",
        "    def fit(self, X, y):\n",
        "        self.weights = np.zeros(1 + X.shape[1])\n",
        "        self.errors = []\n",
        "\n",
        "        for _ in range(self.n_iterations):\n",
        "            error = 0\n",
        "            for xi, target in zip(X, y):\n",
        "                update = self.learning_rate * (target - self.predict(xi))\n",
        "                self.weights[1:] += update * xi\n",
        "                self.weights[0] += update\n",
        "                error += int(update != 0.0)\n",
        "            self.errors.append(error)\n",
        "        return self\n",
        "\n",
        "    def net_input(self, X):\n",
        "        return np.dot(X, self.weights[1:]) + self.weights[0]\n",
        "\n",
        "    def predict(self, X):\n",
        "        return np.where(self.net_input(X) >= 0.0, 1, -1)\n"
      ],
      "metadata": {
        "id": "l_uJWv8sCSMf"
      },
      "execution_count": 6,
      "outputs": []
    },
    {
      "cell_type": "code",
      "source": [
        "perceptron = Perceptron(learning_rate=0.1, n_iterations=100)\n",
        "perceptron.fit(X_train, y_train)\n"
      ],
      "metadata": {
        "colab": {
          "base_uri": "https://localhost:8080/"
        },
        "id": "uZ2G_i4SCYcc",
        "outputId": "8898215a-e088-42c0-a000-1bf4856431e7"
      },
      "execution_count": 7,
      "outputs": [
        {
          "output_type": "execute_result",
          "data": {
            "text/plain": [
              "<__main__.Perceptron at 0x7c172230aa10>"
            ]
          },
          "metadata": {},
          "execution_count": 7
        }
      ]
    },
    {
      "cell_type": "code",
      "source": [
        "y_pred = perceptron.predict(X_test)\n"
      ],
      "metadata": {
        "id": "c_bBbtK_CcdT"
      },
      "execution_count": 8,
      "outputs": []
    },
    {
      "cell_type": "code",
      "source": [
        "accuracy = np.mean(y_pred == y_test) * 100\n",
        "print(f'Accuracy: {accuracy:.2f}%')\n"
      ],
      "metadata": {
        "id": "SHnoBRY4CfuF"
      },
      "execution_count": null,
      "outputs": []
    },
    {
      "cell_type": "code",
      "source": [
        "xx, yy = np.meshgrid(np.arange(X_train[:, 0].min() - 1, X_train[:, 0].max() + 1, 0.01),\n",
        "                     np.arange(X_train[:, 1].min() - 1, X_train[:, 1].max() + 1, 0.01))\n",
        "Z = perceptron.predict(np.array([xx.ravel(), yy.ravel()]).T)\n",
        "Z = Z.reshape(xx.shape)\n",
        "\n",
        "plt.contourf(xx, yy, Z, alpha=0.3)\n",
        "plt.scatter(X_train[y_train == 1, 0], X_train[y_train == 1, 1], label='Class 1')\n",
        "plt.scatter(X_train[y_train == 0, 0], X_train[y_train == 0, 1], label='Class 0')\n",
        "plt.xlabel('Sepal Length (Standardized)')\n",
        "plt.ylabel('Sepal Width (Standardized)')\n",
        "plt.legend()\n",
        "plt.title('Perceptron Decision Boundary')\n",
        "plt.show()\n"
      ],
      "metadata": {
        "id": "45leCM-ICjOP"
      },
      "execution_count": null,
      "outputs": []
    },
    {
      "cell_type": "code",
      "source": [
        "from sklearn.neural_network import MLPClassifier"
      ],
      "metadata": {
        "id": "1iMvlBKWDd0Y"
      },
      "execution_count": 12,
      "outputs": []
    },
    {
      "cell_type": "code",
      "source": [
        "mlp = MLPClassifier(hidden_layer_sizes=(2, 2), max_iter=1000, random_state=42)"
      ],
      "metadata": {
        "id": "jYLPfZh4Cnc2"
      },
      "execution_count": 66,
      "outputs": []
    },
    {
      "cell_type": "code",
      "source": [
        "mlp.fit(X_train, y_train)"
      ],
      "metadata": {
        "id": "cF8Xzrf6DSf2"
      },
      "execution_count": null,
      "outputs": []
    },
    {
      "cell_type": "code",
      "source": [
        "y_pred = mlp.predict(X_test)\n"
      ],
      "metadata": {
        "id": "2uRNFQMjDjYa"
      },
      "execution_count": 68,
      "outputs": []
    },
    {
      "cell_type": "code",
      "source": [
        "accuracy = np.mean(y_pred == y_test) * 100\n",
        "print(f'Accuracy: {accuracy:.2f}%')"
      ],
      "metadata": {
        "id": "srvLSbIlDmTt"
      },
      "execution_count": null,
      "outputs": []
    },
    {
      "cell_type": "code",
      "source": [
        "from sklearn.model_selection import cross_val_score\n",
        "scores = cross_val_score(mlp, X_train, y_train, cv=5)\n",
        "\n",
        "mean_accuracy = np.mean(scores)\n",
        "std_accuracy = np.std(scores)\n",
        "min_accuracy = np.min(scores)\n",
        "max_accuracy = np.max(scores)\n",
        "\n",
        "print(\"Cross-Validation Scores:\", scores)\n",
        "\n",
        "print(f\"Mean Accuracy: {mean_accuracy:.2f}\")\n",
        "print(f\"Standard Deviation of Accuracy: {std_accuracy:.2f}\")\n",
        "print(f\"Min Accuracy: {min_accuracy:.2f}\")\n",
        "print(f\"Max Accuracy: {max_accuracy:.2f}\")"
      ],
      "metadata": {
        "id": "UaELx-5XDnEy"
      },
      "execution_count": null,
      "outputs": []
    },
    {
      "cell_type": "code",
      "source": [
        "from sklearn.neural_network import MLPClassifier\n",
        "\n",
        "mlp = MLPClassifier(learning_rate_init=0.01, max_iter=1000, random_state=42)\n",
        "mlp.fit(X_train, y_train)"
      ],
      "metadata": {
        "id": "5pBq-RswHxU3"
      },
      "execution_count": 40,
      "outputs": []
    },
    {
      "cell_type": "code",
      "source": [
        "import matplotlib.pyplot as plt\n",
        "\n",
        "training_loss = mlp.loss_curve_\n",
        "iterations = range(1, len(training_loss) + 1)\n",
        "\n",
        "plt.figure(figsize=(10, 6))\n",
        "plt.plot(iterations, training_loss, marker='o', linestyle='-')\n",
        "plt.title('Training Loss Curve')\n",
        "plt.xlabel('Iterations')\n",
        "plt.ylabel('Training Loss')\n",
        "plt.grid(True)\n",
        "\n",
        "convergence_iteration = None\n",
        "if convergence_iteration is not None:\n",
        "    plt.axvline(x=convergence_iteration, color='r', linestyle='--', label='Convergence')\n",
        "    plt.legend()\n",
        "\n",
        "plt.show()\n"
      ],
      "metadata": {
        "id": "rVH-rlAfIhDz"
      },
      "execution_count": null,
      "outputs": []
    }
  ]
}