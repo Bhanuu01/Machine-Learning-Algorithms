{
 "cells": [
  {
   "cell_type": "code",
   "execution_count": 1,
   "id": "a1e9c050-f0e1-49a3-839f-ad2317771f9c",
   "metadata": {},
   "outputs": [],
   "source": [
    "import pandas as pd\n",
    "import numpy as np\n",
    "from math import log"
   ]
  },
  {
   "cell_type": "code",
   "execution_count": 2,
   "id": "4afeb385-ac31-417f-a815-faecd5ee1629",
   "metadata": {
    "tags": []
   },
   "outputs": [],
   "source": [
    "data = pd.read_csv('Ann.csv')"
   ]
  },
  {
   "cell_type": "code",
   "execution_count": 3,
   "id": "47cc6b7c-fb4f-40b7-ac5b-016d74d937ff",
   "metadata": {
    "tags": []
   },
   "outputs": [
    {
     "name": "stdout",
     "output_type": "stream",
     "text": [
      "    x1  x2  x3  x4  Target\n",
      "0    2   2   3   3       0\n",
      "1    1   2   3   3       0\n",
      "2    2   1   4   1       1\n",
      "3    1   1   4   2       1\n",
      "4    1   1   3   4       0\n",
      "5    1   1   3   1       1\n",
      "6    1   1   3   2       1\n",
      "7    1   2   1   2       0\n",
      "8    1   2   3   1       1\n",
      "9    1   1   4   1       1\n",
      "10   2   1   3   3       0\n",
      "11   2   1   1   2       0\n",
      "12   1   1   4   2       1\n",
      "13   1   2   2   3       0\n",
      "14   2   1   4   2       1\n",
      "15   2   1   3   1       1\n",
      "16   2   2   3   2       0\n",
      "17   2   1   1   1       0\n",
      "18   1   2   3   4       0\n",
      "19   1   2   3   2       1\n"
     ]
    }
   ],
   "source": [
    "print(data)"
   ]
  },
  {
   "cell_type": "code",
   "execution_count": 4,
   "id": "e04a364b-d4b3-4a3a-b4c0-497e987dac1e",
   "metadata": {
    "tags": []
   },
   "outputs": [],
   "source": [
    "x = np.ones(len(data)*4)\n",
    "x = x.reshape(len(data),4)\n",
    "for d in data.iterrows():\n",
    "    x[d[0]][0] = d[1][0]\n",
    "    x[d[0]][1] = d[1][1]\n",
    "    x[d[0]][2] = d[1][2]\n",
    "    x[d[0]][3] = d[1][3]\n",
    "y = data['Target']"
   ]
  },
  {
   "cell_type": "code",
   "execution_count": 5,
   "id": "c87a7069-0919-4dfb-a5ec-2d51888d2238",
   "metadata": {
    "tags": []
   },
   "outputs": [],
   "source": [
    "def backpropagation(x,y,learning_rate,n1,n2,n3,iterations=10000):\n",
    "    w1 = np.ones(n1*n2)\n",
    "    w1 = w1.reshape(n1,n2)\n",
    "    w2 = np.ones(n2*n3)\n",
    "    w2 = w2.reshape(n2,n3)\n",
    "    for i in range(len(w1)):\n",
    "        for j in range(len(w1[0])):\n",
    "            w1[i][j] = 0.5\n",
    "    n = len(x)\n",
    "    for i in range(iterations):\n",
    "        for d in range(n):\n",
    "            #Forward Pass\n",
    "            hnet = np.matmul(x[d],w1)\n",
    "            hout = 1/(1 + np.exp((-1)*hnet))\n",
    "            onet = np.matmul(hnet,w2)\n",
    "            oout = 1/(1 + np.exp((-1)*onet))\n",
    "            #Backward pass\n",
    "            delta_o = np.multiply(oout,np.multiply(np.subtract(1,oout),np.subtract(y[d],oout)))\n",
    "            inter = np.matmul(w2,delta_o)\n",
    "            delta_h = np.multiply(hout,np.multiply(np.subtract(1,hout),inter))\n",
    "            #Update weights\n",
    "            for i in range(len(w1)):\n",
    "                for j in range(len(w1[0])):\n",
    "                    delta = learning_rate*delta_h[j]*x[d][i]\n",
    "                    w1[i][j] += delta\n",
    "            for i in range(len(w2)):\n",
    "                for j in range(len(w2[0])):\n",
    "                    delta = learning_rate*delta_o[j]*hout[j]\n",
    "                    w2[i][j] += delta\n",
    "    return w1, w2"
   ]
  },
  {
   "cell_type": "code",
   "execution_count": 6,
   "id": "0d198cf2-f541-4800-9a44-35b6f889bf35",
   "metadata": {
    "tags": []
   },
   "outputs": [],
   "source": [
    "w1,w2 = backpropagation(x,y,0.1,4,3,1)"
   ]
  },
  {
   "cell_type": "code",
   "execution_count": 7,
   "id": "91d0462d-62ec-42ef-b858-a80061a59c1f",
   "metadata": {},
   "outputs": [],
   "source": [
    "testData = pd.read_csv('ANN_Test.csv')"
   ]
  },
  {
   "cell_type": "code",
   "execution_count": 8,
   "id": "b4086837-b188-465f-9207-b94fa9161017",
   "metadata": {
    "tags": []
   },
   "outputs": [],
   "source": [
    "def confusion():\n",
    "    confmat = np.array([0,0,0,0])\n",
    "    confmat = confmat.reshape(2,2)\n",
    "    for d in testData.iterrows():\n",
    "        hnet = np.matmul(d[1][:4],w1)\n",
    "        hout = 1/(1 + np.exp((-1)*hnet))\n",
    "        onet = np.matmul(hnet,w2)\n",
    "        oout = 1/(1 + np.exp((-1)*onet))\n",
    "        y = d[1][4]\n",
    "        if oout > 0.5:\n",
    "            predy = 1\n",
    "        else:\n",
    "            predy = 0\n",
    "        if y == predy:\n",
    "            if y == 0:\n",
    "                confmat[0][0] += 1\n",
    "            else:\n",
    "                confmat[1][1] += 1\n",
    "        else:\n",
    "            if y == 0:\n",
    "                confmat[1][0] += 1\n",
    "            else:\n",
    "                confmat[0][1] += 1\n",
    "    return confmat "
   ]
  },
  {
   "cell_type": "code",
   "execution_count": 9,
   "id": "cf7c2a47-6de6-4b80-bc29-ce555c327b69",
   "metadata": {
    "tags": []
   },
   "outputs": [
    {
     "data": {
      "text/plain": [
       "array([[8, 1],\n",
       "       [2, 4]])"
      ]
     },
     "execution_count": 9,
     "metadata": {},
     "output_type": "execute_result"
    }
   ],
   "source": [
    "confusion()"
   ]
  },
  {
   "cell_type": "code",
   "execution_count": 10,
   "id": "ede92309-f98d-4d5f-9afc-9c573150c45f",
   "metadata": {
    "tags": []
   },
   "outputs": [],
   "source": [
    "def accuracy(mat):\n",
    "    return (mat[0][0] + mat[1][1])/(mat[0][0] + mat[0][1] + mat[1][0] + mat[1][1])\n",
    "def precision(mat):\n",
    "    return (mat[0][0])/(mat[0][0] + mat[1][0])\n",
    "def recall(mat):\n",
    "    return (mat[0][0])/(mat[0][0] + mat[0][1])\n",
    "def F1Score(p,r):\n",
    "    return (2*(p*r))/(p + r)"
   ]
  },
  {
   "cell_type": "code",
   "execution_count": 11,
   "id": "5ad2683a-6c5c-4d93-822e-e891698be4df",
   "metadata": {
    "tags": []
   },
   "outputs": [
    {
     "name": "stdout",
     "output_type": "stream",
     "text": [
      "0.8 0.8 0.8888888888888888 0.8421052631578948\n"
     ]
    }
   ],
   "source": [
    "mat = confusion() \n",
    "acc = accuracy(mat)\n",
    "pre = precision(mat)\n",
    "rec = recall(mat)\n",
    "fscore = F1Score(pre, rec)\n",
    "print(acc, pre, rec, fscore)"
   ]
  },
  {
   "cell_type": "code",
   "execution_count": null,
   "id": "f5e20582-cb2b-4f85-934e-045bb4e540f7",
   "metadata": {},
   "outputs": [],
   "source": []
  }
 ],
 "metadata": {
  "kernelspec": {
   "display_name": "Python 3",
   "language": "python",
   "name": "python3"
  },
  "language_info": {
   "codemirror_mode": {
    "name": "ipython",
    "version": 3
   },
   "file_extension": ".py",
   "mimetype": "text/x-python",
   "name": "python",
   "nbconvert_exporter": "python",
   "pygments_lexer": "ipython3",
   "version": "3.10.0"
  }
 },
 "nbformat": 4,
 "nbformat_minor": 5
}
