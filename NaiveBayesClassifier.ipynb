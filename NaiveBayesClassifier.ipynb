{
 "cells": [
  {
   "cell_type": "code",
   "execution_count": 1,
   "id": "5f85d133-09bf-41c6-be2b-125c659cb51a",
   "metadata": {
    "tags": []
   },
   "outputs": [],
   "source": [
    "import pandas as pd\n",
    "import numpy as np"
   ]
  },
  {
   "cell_type": "code",
   "execution_count": 2,
   "id": "ad848c7a-1883-4613-aaaa-03f3a9cfdb90",
   "metadata": {
    "tags": []
   },
   "outputs": [],
   "source": [
    "data = pd.read_csv('ml1.csv')"
   ]
  },
  {
   "cell_type": "code",
   "execution_count": 3,
   "id": "3882e3da-3088-4887-a4bd-c700fd75d53a",
   "metadata": {
    "tags": []
   },
   "outputs": [
    {
     "name": "stdout",
     "output_type": "stream",
     "text": [
      "     outlook  temp humidity    wind play\n",
      "0      Sunny   Hot     High    Weak   No\n",
      "1      Sunny   Hot     High  Strong   No\n",
      "2   Overcast   Hot     High    Weak  Yes\n",
      "3       Rain  Mild     High    Weak  Yes\n",
      "4       Rain  Cool   Normal    Weak  Yes\n",
      "5       Rain  Cool   Normal  Strong   No\n",
      "6   Overcast  Cool   Normal  Strong  Yes\n",
      "7      Sunny  Mild     High    Weak   No\n",
      "8      Sunny  Cool   Normal    Weak  Yes\n",
      "9       Rain  Mild   Normal    Weak  Yes\n",
      "10     Sunny  Mild   Normal  Strong  Yes\n",
      "11  Overcast  Mild     High  Strong  Yes\n",
      "12  Overcast   Hot   Normal    Weak  Yes\n",
      "13      Rain  Mild     High  Strong   No\n"
     ]
    }
   ],
   "source": [
    "print(data)"
   ]
  },
  {
   "cell_type": "code",
   "execution_count": 4,
   "id": "2b94b9f3-e15d-4a16-baa0-901ea8085bd6",
   "metadata": {
    "tags": []
   },
   "outputs": [
    {
     "name": "stdout",
     "output_type": "stream",
     "text": [
      "outlook\n",
      "temp\n",
      "humidity\n",
      "wind\n",
      "play\n"
     ]
    }
   ],
   "source": [
    "for i in data.keys():\n",
    "    print(i)"
   ]
  },
  {
   "cell_type": "code",
   "execution_count": 5,
   "id": "ff851de1-4e45-487c-8f3c-bd949797c35e",
   "metadata": {
    "tags": []
   },
   "outputs": [
    {
     "data": {
      "text/plain": [
       "{'Sunny': 0.2222222222222222,\n",
       " 'Rain': 0.3333333333333333,\n",
       " 'Overcast': 0.4444444444444444,\n",
       " 'Mild': 0.4444444444444444,\n",
       " 'Hot': 0.2222222222222222,\n",
       " 'Cool': 0.3333333333333333,\n",
       " 'High': 0.3333333333333333,\n",
       " 'Normal': 0.6666666666666666,\n",
       " 'Strong': 0.3333333333333333,\n",
       " 'Weak': 0.6666666666666666}"
      ]
     },
     "execution_count": 5,
     "metadata": {},
     "output_type": "execute_result"
    }
   ],
   "source": [
    "def probabilities(cls):\n",
    "    n = len(data[data['play'] == cls])\n",
    "    d = {}\n",
    "    for key in data.keys():\n",
    "        if key != 'play':\n",
    "            for i in set(data[key]):\n",
    "                d[i] = len(data[(data['play'] == cls) & (data[key] == i)])/n\n",
    "    return d\n",
    "probabilities('Yes')"
   ]
  },
  {
   "cell_type": "code",
   "execution_count": 6,
   "id": "488a5a96-b7e2-4683-8c59-a95664c28283",
   "metadata": {
    "tags": []
   },
   "outputs": [
    {
     "name": "stdout",
     "output_type": "stream",
     "text": [
      "{'No': {'Sunny': 0.6, 'Rain': 0.4, 'Overcast': 0.0, 'Mild': 0.4, 'Hot': 0.4, 'Cool': 0.2, 'High': 0.8, 'Normal': 0.2, 'Strong': 0.6, 'Weak': 0.4}, 'Yes': {'Sunny': 0.2222222222222222, 'Rain': 0.3333333333333333, 'Overcast': 0.4444444444444444, 'Mild': 0.4444444444444444, 'Hot': 0.2222222222222222, 'Cool': 0.3333333333333333, 'High': 0.3333333333333333, 'Normal': 0.6666666666666666, 'Strong': 0.3333333333333333, 'Weak': 0.6666666666666666}}\n"
     ]
    }
   ],
   "source": [
    "prob = {}\n",
    "for cls in set(data['play']):\n",
    "    prob[cls] = probabilities(cls)\n",
    "print(prob)"
   ]
  },
  {
   "cell_type": "code",
   "execution_count": 7,
   "id": "906ef38a-ea93-4261-82f8-900a3693e89e",
   "metadata": {
    "tags": []
   },
   "outputs": [],
   "source": [
    "def NaiveBayesClassifier(X):\n",
    "    predcls = None\n",
    "    maxval = 0\n",
    "    for cls in prob.keys():\n",
    "        val = 1\n",
    "        for i in X:\n",
    "            val *= prob[cls].get(i,0)\n",
    "        if val > maxval:\n",
    "            maxval = val\n",
    "            predcls = cls\n",
    "    return predcls   "
   ]
  },
  {
   "cell_type": "code",
   "execution_count": 8,
   "id": "c3636a33-080f-4e7e-8ac1-a54111b3f494",
   "metadata": {
    "tags": []
   },
   "outputs": [],
   "source": [
    "x = ['asdf','Hot','High','Strong']\n",
    "NaiveBayesClassifier(x)"
   ]
  },
  {
   "cell_type": "code",
   "execution_count": 9,
   "id": "2e711441-647f-47da-89be-99f5d0cca0bf",
   "metadata": {
    "tags": []
   },
   "outputs": [],
   "source": [
    "def confusion():\n",
    "    confmat = np.array([0,0,0,0])\n",
    "    confmat = confmat.reshape(2,2)\n",
    "    for d in data.iterrows():\n",
    "        x = [d[1]['outlook'],d[1]['temp'],d[1]['humidity'],d[1]['wind']]\n",
    "        y = d[1]['play']\n",
    "        predy = NaiveBayesClassifier(x)\n",
    "        if y == predy:\n",
    "            if y == 'Yes':\n",
    "                confmat[0][0] += 1\n",
    "            else:\n",
    "                confmat[1][1] += 1\n",
    "        else:\n",
    "            if y == 'Yes':\n",
    "                confmat[1][0] += 1\n",
    "            else:\n",
    "                confmat[0][1] += 1\n",
    "    return confmat"
   ]
  },
  {
   "cell_type": "code",
   "execution_count": 10,
   "id": "0bf09104-606c-4c10-b10b-15905e5f9c14",
   "metadata": {
    "tags": []
   },
   "outputs": [],
   "source": [
    "def accuracy(mat):\n",
    "    return (mat[0][0] + mat[1][1])/(mat[0][0] + mat[0][1] + mat[1][0] + mat[1][1])\n",
    "def precision(mat):\n",
    "    return (mat[0][0])/(mat[0][0] + mat[1][0])\n",
    "def recall(mat):\n",
    "    return (mat[0][0])/(mat[0][0] + mat[0][1])\n",
    "def F1Score(p,r):\n",
    "    return (2*(p*r))/(p + r)"
   ]
  },
  {
   "cell_type": "code",
   "execution_count": 11,
   "id": "6fc2be8f-be98-4932-b7d7-264672c70af5",
   "metadata": {
    "tags": []
   },
   "outputs": [
    {
     "name": "stdout",
     "output_type": "stream",
     "text": [
      "[[7 1]\n",
      " [2 4]]\n",
      "0.7857142857142857 0.7777777777777778 0.875 0.823529411764706\n"
     ]
    }
   ],
   "source": [
    "mat = confusion() \n",
    "print(mat)\n",
    "acc = accuracy(mat)\n",
    "pre = precision(mat)\n",
    "rec = recall(mat)\n",
    "fscore = F1Score(pre, rec)\n",
    "print(acc, pre, rec, fscore)"
   ]
  },
  {
   "cell_type": "code",
   "execution_count": null,
   "id": "723b1dd3-0591-4ee3-be61-0629022e3326",
   "metadata": {},
   "outputs": [],
   "source": []
  }
 ],
 "metadata": {
  "kernelspec": {
   "display_name": "Python 3",
   "language": "python",
   "name": "python3"
  },
  "language_info": {
   "codemirror_mode": {
    "name": "ipython",
    "version": 3
   },
   "file_extension": ".py",
   "mimetype": "text/x-python",
   "name": "python",
   "nbconvert_exporter": "python",
   "pygments_lexer": "ipython3",
   "version": "3.10.0"
  }
 },
 "nbformat": 4,
 "nbformat_minor": 5
}
