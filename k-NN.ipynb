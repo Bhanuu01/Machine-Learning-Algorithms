{
 "cells": [
  {
   "cell_type": "code",
   "execution_count": 1,
   "id": "f22c8640-34f9-4861-a1ef-bb1ff7de3add",
   "metadata": {
    "tags": []
   },
   "outputs": [],
   "source": [
    "import pandas as pd\n",
    "import numpy as np"
   ]
  },
  {
   "cell_type": "code",
   "execution_count": 2,
   "id": "af71d2ee-e068-4586-8f18-3825cbfe0ce5",
   "metadata": {
    "tags": []
   },
   "outputs": [],
   "source": [
    "data = pd.read_csv('Iris.csv')"
   ]
  },
  {
   "cell_type": "code",
   "execution_count": 3,
   "id": "af4f7d99-aa6b-4b1a-8693-20319d10330d",
   "metadata": {
    "tags": []
   },
   "outputs": [
    {
     "name": "stdout",
     "output_type": "stream",
     "text": [
      "     sepal length  sepal width  petal length  petal width           Class\n",
      "0             5.1          3.5           1.4          0.2     Iris-setosa\n",
      "1             4.9          3.0           1.4          0.2     Iris-setosa\n",
      "2             4.7          3.2           1.3          0.2     Iris-setosa\n",
      "3             4.6          3.1           1.5          0.2     Iris-setosa\n",
      "4             5.0          3.6           1.4          0.2     Iris-setosa\n",
      "..            ...          ...           ...          ...             ...\n",
      "100           7.4          2.8           6.1          1.9  Iris-virginica\n",
      "101           7.9          3.8           6.4          2.0  Iris-virginica\n",
      "102           6.4          2.8           5.6          2.2  Iris-virginica\n",
      "103           6.3          2.8           5.1          1.5  Iris-virginica\n",
      "104           6.1          2.6           5.6          1.4  Iris-virginica\n",
      "\n",
      "[105 rows x 5 columns]\n"
     ]
    }
   ],
   "source": [
    "print(data)"
   ]
  },
  {
   "cell_type": "code",
   "execution_count": 4,
   "id": "7bf26a4f-08a4-4d9a-8695-93bff50de177",
   "metadata": {},
   "outputs": [],
   "source": [
    "testData = pd.read_csv('IrisTest.csv')"
   ]
  },
  {
   "cell_type": "code",
   "execution_count": 5,
   "id": "26b0e45b-0d6c-4e63-a722-43fb7ae317e4",
   "metadata": {
    "tags": []
   },
   "outputs": [
    {
     "name": "stdout",
     "output_type": "stream",
     "text": [
      "    sepal length  sepal width  petal length  petal width            Class\n",
      "0            4.9          3.1           1.5          0.1      Iris-setosa\n",
      "1            5.0          3.2           1.2          0.2      Iris-setosa\n",
      "2            5.5          3.5           1.3          0.2      Iris-setosa\n",
      "3            4.9          3.1           1.5          0.1      Iris-setosa\n",
      "4            4.4          3.0           1.3          0.2      Iris-setosa\n",
      "5            5.1          3.4           1.5          0.2      Iris-setosa\n",
      "6            5.0          3.5           1.3          0.3      Iris-setosa\n",
      "7            4.5          2.3           1.3          0.3      Iris-setosa\n",
      "8            5.0          3.5           1.6          0.6      Iris-setosa\n",
      "9            5.1          3.8           1.9          0.4      Iris-setosa\n",
      "10           4.8          3.0           1.4          0.3      Iris-setosa\n",
      "11           5.1          3.8           1.6          0.2      Iris-setosa\n",
      "12           4.6          3.2           1.4          0.2      Iris-setosa\n",
      "13           5.3          3.7           1.5          0.2      Iris-setosa\n",
      "14           5.0          3.3           1.4          0.2      Iris-setosa\n",
      "15           6.0          3.4           4.5          1.6  Iris-versicolor\n",
      "16           6.7          3.1           4.7          1.5  Iris-versicolor\n",
      "17           6.3          2.3           4.4          1.3  Iris-versicolor\n",
      "18           5.6          3.0           4.1          1.3  Iris-versicolor\n",
      "19           5.5          2.5           4.0          1.3  Iris-versicolor\n",
      "20           5.5          2.6           4.4          1.2  Iris-versicolor\n",
      "21           6.1          3.0           4.6          1.4  Iris-versicolor\n",
      "22           5.8          2.6           4.0          1.2  Iris-versicolor\n",
      "23           5.0          2.3           3.3          1.0  Iris-versicolor\n",
      "24           5.6          2.7           4.2          1.3  Iris-versicolor\n",
      "25           5.7          3.0           4.2          1.2  Iris-versicolor\n",
      "26           5.7          2.9           4.2          1.3  Iris-versicolor\n",
      "27           6.2          2.9           4.3          1.3  Iris-versicolor\n",
      "28           5.1          2.5           3.0          1.1  Iris-versicolor\n",
      "29           5.7          2.8           4.1          1.3  Iris-versicolor\n",
      "30           7.7          3.0           6.1          2.3   Iris-virginica\n",
      "31           6.3          3.4           5.6          2.4   Iris-virginica\n",
      "32           6.4          3.1           5.5          1.8   Iris-virginica\n",
      "33           6.0          3.0           4.8          1.8   Iris-virginica\n",
      "34           6.9          3.1           5.4          2.1   Iris-virginica\n",
      "35           6.7          3.1           5.6          2.4   Iris-virginica\n",
      "36           6.9          3.1           5.1          2.3   Iris-virginica\n",
      "37           5.8          2.7           5.1          1.9   Iris-virginica\n",
      "38           6.8          3.2           5.9          2.3   Iris-virginica\n",
      "39           6.7          3.3           5.7          2.5   Iris-virginica\n",
      "40           6.7          3.0           5.2          2.3   Iris-virginica\n",
      "41           6.3          2.5           5.0          1.9   Iris-virginica\n",
      "42           6.5          3.0           5.2          2.0   Iris-virginica\n",
      "43           6.2          3.4           5.4          2.3   Iris-virginica\n",
      "44           5.9          3.0           5.1          1.8   Iris-virginica\n"
     ]
    }
   ],
   "source": [
    "print(testData)"
   ]
  },
  {
   "cell_type": "code",
   "execution_count": 6,
   "id": "07a1a739-cb82-41d6-a73d-d4eaa15987cf",
   "metadata": {
    "tags": []
   },
   "outputs": [],
   "source": [
    "def k_nn(x,k):\n",
    "    l = []\n",
    "    keys = []\n",
    "    for i in data.keys():\n",
    "        keys.append(i)\n",
    "    target = keys[-1]\n",
    "    keys = keys[:-1]\n",
    "    n = len(keys)\n",
    "    for d in data.iterrows():\n",
    "        dist = 0\n",
    "        for i in range(n):\n",
    "            dist += (x[i] - d[1][keys[i]])**2\n",
    "        l.append((dist,d[0]))\n",
    "    l.sort()\n",
    "    d = {}\n",
    "    for i in range(k):\n",
    "        val = data.iloc[l[i][1]]['Class']\n",
    "        d[val] = d.get(val,0) + 1\n",
    "    predClass = None\n",
    "    maxval = 0\n",
    "    for i in d.keys():\n",
    "        if d[i] > maxval:\n",
    "            maxval = d[i]\n",
    "            predClass = i\n",
    "    return predClass"
   ]
  },
  {
   "cell_type": "code",
   "execution_count": 7,
   "id": "03c3c3a2-742d-4474-9ae8-d12556849989",
   "metadata": {
    "tags": []
   },
   "outputs": [
    {
     "data": {
      "text/plain": [
       "'Iris-virginica'"
      ]
     },
     "execution_count": 7,
     "metadata": {},
     "output_type": "execute_result"
    }
   ],
   "source": [
    "x = [5.7, 3.8, 5.1, 2.3] \n",
    "k_nn(x, 11)"
   ]
  },
  {
   "cell_type": "code",
   "execution_count": 8,
   "id": "61cde68a-5a61-4e55-9c57-c39c8db7e544",
   "metadata": {
    "tags": []
   },
   "outputs": [
    {
     "data": {
      "text/plain": [
       "array([[15.,  0.,  0.],\n",
       "       [ 0., 15.,  0.],\n",
       "       [ 0.,  0., 15.]])"
      ]
     },
     "execution_count": 8,
     "metadata": {},
     "output_type": "execute_result"
    }
   ],
   "source": [
    "def confusion():\n",
    "    col = []\n",
    "    for i in data.keys():\n",
    "        col.append(i)\n",
    "    target = col[-1]\n",
    "    col = col[:-1]\n",
    "    keys = {}\n",
    "    i = 0\n",
    "    for key in set(data[target]):\n",
    "        if key != 'Class':\n",
    "            keys[key] = i\n",
    "            i += 1\n",
    "    n = len(keys)\n",
    "    confmat = np.zeros(n*n)\n",
    "    confmat = confmat.reshape(n,n)\n",
    "    for d in testData.iterrows():\n",
    "        x = [d[1][i] for i in col]\n",
    "        y = d[1][target]\n",
    "        predy = k_nn(x, 11)\n",
    "        confmat[keys[predy]][keys[y]] += 1\n",
    "    return confmat\n",
    "confusion()"
   ]
  },
  {
   "cell_type": "code",
   "execution_count": 9,
   "id": "af91bc0b-a2c6-4531-9bca-bbf9dd486a92",
   "metadata": {
    "tags": []
   },
   "outputs": [],
   "source": [
    "def accuracy(mat):\n",
    "    n = len(mat)\n",
    "    num = 0\n",
    "    den = 0\n",
    "    for i in range(n):\n",
    "        num += mat[i][i]\n",
    "        den += sum(mat[i])\n",
    "    return num/den\n",
    "def precision(mat, key):\n",
    "    n = len(mat)\n",
    "    num = mat[key][key]\n",
    "    den = 0\n",
    "    for i in range(n):\n",
    "        den += mat[i][key]\n",
    "    return num/den\n",
    "def recall(mat, key):\n",
    "    n = len(mat)\n",
    "    num = mat[key][key]\n",
    "    den = 0\n",
    "    for i in range(n):\n",
    "        den += mat[key][i]\n",
    "    return num/den\n",
    "def F1Score(p,r):\n",
    "    return (2*(p*r))/(p + r)"
   ]
  },
  {
   "cell_type": "code",
   "execution_count": 10,
   "id": "5d1107fa-6e79-4aa1-8552-31003ccebd5a",
   "metadata": {
    "tags": []
   },
   "outputs": [
    {
     "name": "stdout",
     "output_type": "stream",
     "text": [
      "1.0 1.0 1.0 1.0\n"
     ]
    }
   ],
   "source": [
    "mat = confusion() \n",
    "# mat = [[15,  2,  5],\n",
    "#        [ 1, 15,  0],\n",
    "#        [ 1,  3, 15]]\n",
    "acc = accuracy(mat)\n",
    "pre = precision(mat,0)\n",
    "rec = recall(mat,0)\n",
    "fscore = F1Score(pre, rec)\n",
    "print(acc, pre, rec, fscore)"
   ]
  },
  {
   "cell_type": "code",
   "execution_count": null,
   "id": "8fefd3fa-3551-4ada-a64f-3bcfa1efb65d",
   "metadata": {},
   "outputs": [],
   "source": []
  }
 ],
 "metadata": {
  "kernelspec": {
   "display_name": "Python 3",
   "language": "python",
   "name": "python3"
  },
  "language_info": {
   "codemirror_mode": {
    "name": "ipython",
    "version": 3
   },
   "file_extension": ".py",
   "mimetype": "text/x-python",
   "name": "python",
   "nbconvert_exporter": "python",
   "pygments_lexer": "ipython3",
   "version": "3.10.0"
  }
 },
 "nbformat": 4,
 "nbformat_minor": 5
}
