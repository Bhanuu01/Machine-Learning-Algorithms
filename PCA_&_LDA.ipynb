{
  "nbformat": 4,
  "nbformat_minor": 0,
  "metadata": {
    "colab": {
      "provenance": []
    },
    "kernelspec": {
      "name": "python3",
      "display_name": "Python 3"
    },
    "language_info": {
      "name": "python"
    }
  },
  "cells": [
    {
      "cell_type": "code",
      "source": [
        "import numpy as np\n",
        "import pandas as pd\n",
        "import matplotlib.pyplot as plt\n",
        "from sklearn.datasets import load_iris\n",
        "from sklearn.preprocessing import StandardScaler\n",
        "from sklearn.decomposition import PCA\n",
        "from sklearn.discriminant_analysis import LinearDiscriminantAnalysis as LDA"
      ],
      "metadata": {
        "id": "qYeDo4uz9p16"
      },
      "execution_count": 14,
      "outputs": []
    },
    {
      "cell_type": "code",
      "source": [
        "# Load the Iris dataset\n",
        "iris = load_iris()\n",
        "X = iris.data\n",
        "y = iris.target"
      ],
      "metadata": {
        "id": "bW0LQu0s-Gcm"
      },
      "execution_count": 15,
      "outputs": []
    },
    {
      "cell_type": "code",
      "source": [
        "# Standardize the feature values\n",
        "scaler = StandardScaler()\n",
        "X_scaled = scaler.fit_transform(X)"
      ],
      "metadata": {
        "id": "ZAH7T_6t-MwA"
      },
      "execution_count": 5,
      "outputs": []
    },
    {
      "cell_type": "code",
      "source": [
        "# Instantiate PCA with 2 principal components\n",
        "pca = PCA(n_components=2)\n",
        "X_pca = pca.fit_transform(X_scaled)"
      ],
      "metadata": {
        "id": "VuceN2iE-b1Y"
      },
      "execution_count": 6,
      "outputs": []
    },
    {
      "cell_type": "code",
      "source": [
        "# Instantiate LDA with 2 discriminant components\n",
        "lda = LDA(n_components=2)\n",
        "X_lda = lda.fit_transform(X_scaled, y)"
      ],
      "metadata": {
        "id": "fBtXRtoM-RVq"
      },
      "execution_count": 7,
      "outputs": []
    },
    {
      "cell_type": "code",
      "source": [
        "# Plotting PCA results\n",
        "plt.figure(figsize=(12, 6))\n",
        "\n",
        "plt.subplot(1, 2, 1)\n",
        "plt.scatter(X_pca[y == 0, 0], X_pca[y == 0, 1], label='Setosa')\n",
        "plt.scatter(X_pca[y == 1, 0], X_pca[y == 1, 1], label='Versicolor')\n",
        "plt.scatter(X_pca[y == 2, 0], X_pca[y == 2, 1], label='Virginica')\n",
        "plt.title('PCA of IRIS dataset')\n",
        "plt.legend()"
      ],
      "metadata": {
        "id": "ZnmESZqU-nv6"
      },
      "execution_count": null,
      "outputs": []
    },
    {
      "cell_type": "code",
      "source": [
        "# Plotting LDA results\n",
        "plt.subplot(1, 2, 2)\n",
        "plt.scatter(X_lda[y == 0, 0], X_lda[y == 0, 1], label='Setosa')\n",
        "plt.scatter(X_lda[y == 1, 0], X_lda[y == 1, 1], label='Versicolor')\n",
        "plt.scatter(X_lda[y == 2, 0], X_lda[y == 2, 1], label='Virginica')\n",
        "plt.title('LDA of IRIS dataset')\n",
        "plt.legend()"
      ],
      "metadata": {
        "id": "u2rHceT2-XX2"
      },
      "execution_count": null,
      "outputs": []
    },
    {
      "cell_type": "code",
      "source": [
        "plt.tight_layout()\n",
        "plt.show()"
      ],
      "metadata": {
        "colab": {
          "base_uri": "https://localhost:8080/",
          "height": 34
        },
        "id": "KLW0-9PC-tv0",
        "outputId": "04441822-19f4-48e5-90f2-8b4bc490aefd"
      },
      "execution_count": 10,
      "outputs": [
        {
          "output_type": "display_data",
          "data": {
            "text/plain": [
              "<Figure size 640x480 with 0 Axes>"
            ]
          },
          "metadata": {}
        }
      ]
    },
    {
      "cell_type": "code",
      "source": [],
      "metadata": {
        "id": "AM7j72GS-veO"
      },
      "execution_count": null,
      "outputs": []
    }
  ]
}